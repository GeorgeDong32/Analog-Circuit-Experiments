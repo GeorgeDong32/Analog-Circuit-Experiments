{
 "cells": [
  {
   "cell_type": "markdown",
   "metadata": {},
   "source": [
    "# 实验二 两级交流放大电路"
   ]
  },
  {
   "cell_type": "code",
   "execution_count": null,
   "metadata": {},
   "outputs": [],
   "source": [
    "import numpy as np\n",
    "import matplotlib.pyplot as plt\n",
    "import pandas as pd\n",
    "from cProfile import label\n",
    "# plt防止中文乱码\n",
    "plt.rcParams['font.sans-serif'] = ['SimHei']\n",
    "plt.rcParams['axes.unicode_minus'] = False"
   ]
  },
  {
   "cell_type": "markdown",
   "metadata": {},
   "source": [
    "## 绘制R_L=3kΩ时的Uo与fL的关系图"
   ]
  },
  {
   "cell_type": "code",
   "execution_count": null,
   "metadata": {},
   "outputs": [],
   "source": [
    "exdata = pd.read_csv('实验二数据.csv')\n",
    "f = exdata.iloc[:,0]\n",
    "Uoinf = exdata.iloc[:,1]\n",
    "Uo3k = exdata.iloc[:,2]\n",
    "\n",
    "plt.figure(dpi=150)\n",
    "plt.plot(f,Uoinf,'r',label='Uo,RL=∞')\n",
    "plt.semilogx(f,Uo3k,'b',label='Uo,RL=3kΩ')\n",
    "plt.title('频率特性曲线')\n",
    "plt.xlabel('频率(Hz)')\n",
    "plt.ylabel('电压(V)')\n",
    "plt.legend()"
   ]
  }
 ],
 "metadata": {
  "kernelspec": {
   "display_name": "Python 3.10.8 64-bit",
   "language": "python",
   "name": "python3"
  },
  "language_info": {
   "codemirror_mode": {
    "name": "ipython",
    "version": 3
   },
   "file_extension": ".py",
   "mimetype": "text/x-python",
   "name": "python",
   "nbconvert_exporter": "python",
   "pygments_lexer": "ipython3",
   "version": "3.10.8"
  },
  "orig_nbformat": 4,
  "vscode": {
   "interpreter": {
    "hash": "16c7dfe2c5f4b59b586436eb272f48c8c319e49afe8ecb13d043616632298bc8"
   }
  }
 },
 "nbformat": 4,
 "nbformat_minor": 2
}
